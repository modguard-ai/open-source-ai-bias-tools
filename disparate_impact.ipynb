{
 "cells": [
  {
   "cell_type": "code",
   "execution_count": null,
   "id": "d6bdfb0d",
   "metadata": {},
   "outputs": [],
   "source": [
    "import pandas as pd"
   ]
  },
  {
   "cell_type": "code",
   "execution_count": null,
   "id": "267570a2",
   "metadata": {},
   "outputs": [],
   "source": [
    "def compute_disparate_impact(data, group_column, outcome_column):\n",
    "    # Calculate the selection rates for each group\n",
    "    group_counts = data.groupby(group_column)[outcome_column].value_counts()\n",
    "    group_applicants = group_counts.groupby(level=0).sum()\n",
    "    group_selected = group_counts.groupby(level=0).apply(lambda x: x[1] if 1 in x.index else 0)\n",
    "    selection_rates = group_selected / group_applicants\n",
    "\n",
    "    # Find the maximum selection rate\n",
    "    max_selection_rate = selection_rates.max()\n",
    "\n",
    "    # Compute the disparate impact\n",
    "    disparate_impact = selection_rates / max_selection_rate\n",
    "\n",
    "    return disparate_impact"
   ]
  },
  {
   "cell_type": "code",
   "execution_count": null,
   "id": "9a90201f",
   "metadata": {},
   "outputs": [],
   "source": [
    "# Load the data\n",
    "data = pd.read_csv('data.csv')\n",
    "\n",
    "# Specify the column names for group and outcome\n",
    "group_column = 'gender'\n",
    "outcome_column = 'hired'  # Assuming 1 represents hired, 0 represents not hired\n",
    "\n",
    "# Compute the disparate impact\n",
    "di = compute_disparate_impact(data, group_column, outcome_column)\n",
    "\n",
    "# Display the result\n",
    "print(di)"
   ]
  }
 ],
 "metadata": {
  "kernelspec": {
   "display_name": "Python 3.10",
   "language": "python",
   "name": "python3.10"
  },
  "language_info": {
   "codemirror_mode": {
    "name": "ipython",
    "version": 3
   },
   "file_extension": ".py",
   "mimetype": "text/x-python",
   "name": "python",
   "nbconvert_exporter": "python",
   "pygments_lexer": "ipython3",
   "version": "3.10.5"
  }
 },
 "nbformat": 4,
 "nbformat_minor": 5
}
