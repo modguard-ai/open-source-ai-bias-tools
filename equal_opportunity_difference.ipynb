{
 "cells": [
  {
   "cell_type": "code",
   "execution_count": null,
   "id": "9aeb5e43",
   "metadata": {},
   "outputs": [],
   "source": [
    "import pandas as pd\n",
    "from sklearn.metrics import confusion_matrix"
   ]
  },
  {
   "cell_type": "code",
   "execution_count": null,
   "id": "0d3151a5",
   "metadata": {},
   "outputs": [],
   "source": [
    "def compute_equal_opportunity_difference(data, group_column, outcome_column, positive_label):\n",
    "    # Compute confusion matrices for each group\n",
    "    group_1 = data[data[group_column] == 1]\n",
    "    group_0 = data[data[group_column] == 0]\n",
    "    cm_group_1 = confusion_matrix(group_1[outcome_column], group_1[positive_label])\n",
    "    cm_group_0 = confusion_matrix(group_0[outcome_column], group_0[positive_label])\n",
    "\n",
    "    # Extract true positive rates\n",
    "    tpr_group_1 = cm_group_1[1, 1] / (cm_group_1[1, 1] + cm_group_1[1, 0])\n",
    "    tpr_group_0 = cm_group_0[1, 1] / (cm_group_0[1, 1] + cm_group_0[1, 0])\n",
    "\n",
    "    # Compute the equal opportunity difference\n",
    "    eod = tpr_group_1 - tpr_group_0\n",
    "\n",
    "    return eod"
   ]
  },
  {
   "cell_type": "code",
   "execution_count": null,
   "id": "b46f93ed",
   "metadata": {},
   "outputs": [],
   "source": [
    "# Load the data\n",
    "data = pd.read_csv('data.csv')\n",
    "\n",
    "# Specify the column names for group, outcome, and positive label\n",
    "group_column = 'gender'\n",
    "outcome_column = 'prediction'\n",
    "positive_label = 1  # Assuming 1 represents positive outcome/prediction\n",
    "\n",
    "# Compute the equal opportunity difference\n",
    "eod = compute_equal_opportunity_difference(data, group_column, outcome_column, positive_label)\n",
    "\n",
    "# Display the result\n",
    "print(f\"Equal Opportunity Difference: {eod}\")"
   ]
  }
 ],
 "metadata": {
  "kernelspec": {
   "display_name": "Python 3.10",
   "language": "python",
   "name": "python3.10"
  },
  "language_info": {
   "codemirror_mode": {
    "name": "ipython",
    "version": 3
   },
   "file_extension": ".py",
   "mimetype": "text/x-python",
   "name": "python",
   "nbconvert_exporter": "python",
   "pygments_lexer": "ipython3",
   "version": "3.10.5"
  }
 },
 "nbformat": 4,
 "nbformat_minor": 5
}
