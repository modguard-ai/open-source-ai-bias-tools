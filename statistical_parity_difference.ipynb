{
 "cells": [
  {
   "cell_type": "code",
   "execution_count": null,
   "metadata": {},
   "outputs": [],
   "source": [
    "import pandas as pd"
   ]
  },
  {
   "cell_type": "code",
   "execution_count": null,
   "metadata": {},
   "outputs": [],
   "source": [
    "def compute_statistical_parity(data, group_column, outcome_column):\n",
    "    # Calculate the proportion of positive outcomes for each group\n",
    "    group_counts = data.groupby(group_column)[outcome_column].value_counts(normalize=True).unstack()\n",
    "    positive_proportions = group_counts[1]  # Assuming 1 represents positive outcomes\n",
    "\n",
    "    # Compute the statistical parity difference\n",
    "    spd = abs(positive_proportions[1] - positive_proportions[0])\n",
    "\n",
    "    return spd\n",
    "\n"
   ]
  },
  {
   "cell_type": "code",
   "execution_count": null,
   "metadata": {},
   "outputs": [],
   "source": [
    "# Load the data\n",
    "data = pd.read_csv('data.csv')\n",
    "\n",
    "# Specify the column names for group and outcome\n",
    "group_column = 'gender'\n",
    "outcome_column = 'prediction'  # Assuming 1 represents positive prediction\n",
    "\n",
    "# Compute the statistical parity difference\n",
    "spd = compute_statistical_parity(data, group_column, outcome_column)\n",
    "\n",
    "# Display the result\n",
    "print(f\"Statistical Parity Difference: {spd}\")"
   ]
  }
 ],
 "metadata": {
  "kernelspec": {
   "display_name": "Python 3.10",
   "language": "python",
   "name": "python3.10"
  },
  "language_info": {
   "codemirror_mode": {
    "name": "ipython",
    "version": 3
   },
   "file_extension": ".py",
   "mimetype": "text/x-python",
   "name": "python",
   "nbconvert_exporter": "python",
   "pygments_lexer": "ipython3",
   "version": "3.10.5"
  }
 },
 "nbformat": 4,
 "nbformat_minor": 1
}
